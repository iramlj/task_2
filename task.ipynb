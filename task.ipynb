{
 "cells": [
  {
   "cell_type": "code",
   "execution_count": 115,
   "metadata": {},
   "outputs": [],
   "source": [
    "# import packages\n",
    "import io\n",
    "import lyricsgenius\n",
    "import json\n",
    "import numpy as np\n",
    "import pandas as pd\n",
    "import matplotlib.pyplot as plt\n",
    "import seaborn as sns\n",
    "from sklearn.model_selection import train_test_split\n",
    "from nltk.probability import FreqDist\n",
    "import nltk\n",
    "from nltk.util import pad_sequence\n",
    "from nltk.util import bigrams\n",
    "from nltk.util import ngrams\n",
    "from nltk.util import everygrams\n",
    "from nltk.lm.preprocessing import padded_everygram_pipeline\n",
    "from nltk.lm.preprocessing import flatten\n",
    "from nltk.util import pad_sequence\n",
    "from nltk.lm.preprocessing import pad_both_ends\n",
    "from nltk.lm.preprocessing import flatten\n",
    "from nltk.corpus import stopwords\n",
    "from nltk.lm import Vocabulary\n",
    "from nltk.tokenize import word_tokenize \n",
    "from nltk.tokenize import ToktokTokenizer\n",
    "from nltk.tokenize.treebank import TreebankWordDetokenizer\n",
    "from nltk import sent_tokenize \n",
    "from nltk import PorterStemmer\n",
    "from collections import Counter\n",
    "from nltk.lm import MLE\n",
    "import string\n",
    "import re"
   ]
  },
  {
   "cell_type": "markdown",
   "metadata": {},
   "source": [
    "## Songs Import"
   ]
  },
  {
   "cell_type": "code",
   "execution_count": 85,
   "metadata": {},
   "outputs": [],
   "source": [
    "genius = lyricsgenius.Genius(\"my token\")\n",
    "genius.remove_section_headers = True\n",
    "genius.excluded_terms = [\"(Remix)\", \"(Live)\", \"(Radio Edit)\", \"(Türkçe Çeviri)\"]"
   ]
  },
  {
   "cell_type": "code",
   "execution_count": null,
   "metadata": {},
   "outputs": [],
   "source": [
    "#ran code in collab & saved to txt\n",
    "artist = genius.search_artist('Eminem', sort='popularity', max_songs=150)\n",
    "artist.save_lyrics(extension = 'txt')"
   ]
  },
  {
   "cell_type": "code",
   "execution_count": 2,
   "metadata": {},
   "outputs": [],
   "source": [
    "#open file with 150 songs\n",
    "file = open('Lyrics_Eminem.txt')\n",
    "lyrics = file.read()"
   ]
  },
  {
   "cell_type": "markdown",
   "metadata": {},
   "source": [
    "## Prepare & look at data"
   ]
  },
  {
   "cell_type": "code",
   "execution_count": 210,
   "metadata": {},
   "outputs": [],
   "source": [
    "df = pd.DataFrame({'lyrics': io.open('Lyrics_Eminem.txt', 'r', encoding='ascii', errors='ignore').read().split('\\n\\n')})"
   ]
  },
  {
   "cell_type": "code",
   "execution_count": 214,
   "metadata": {
    "scrolled": true
   },
   "outputs": [
    {
     "data": {
      "text/html": [
       "<div>\n",
       "<style scoped>\n",
       "    .dataframe tbody tr th:only-of-type {\n",
       "        vertical-align: middle;\n",
       "    }\n",
       "\n",
       "    .dataframe tbody tr th {\n",
       "        vertical-align: top;\n",
       "    }\n",
       "\n",
       "    .dataframe thead th {\n",
       "        text-align: right;\n",
       "    }\n",
       "</style>\n",
       "<table border=\"1\" class=\"dataframe\">\n",
       "  <thead>\n",
       "    <tr style=\"text-align: right;\">\n",
       "      <th></th>\n",
       "      <th>lyrics</th>\n",
       "      <th>#characters</th>\n",
       "      <th>#words</th>\n",
       "      <th>#lines</th>\n",
       "      <th>#uniq_words</th>\n",
       "      <th>lexical_density</th>\n",
       "    </tr>\n",
       "  </thead>\n",
       "  <tbody>\n",
       "    <tr>\n",
       "      <td>0</td>\n",
       "      <td>\"Look, I was gonna go easy on you not to hurt ...</td>\n",
       "      <td>459</td>\n",
       "      <td>87</td>\n",
       "      <td>7</td>\n",
       "      <td>76</td>\n",
       "      <td>0.873563</td>\n",
       "    </tr>\n",
       "    <tr>\n",
       "      <td>1</td>\n",
       "      <td>I'm beginnin' to feel like a Rap God, Rap God\\...</td>\n",
       "      <td>215</td>\n",
       "      <td>46</td>\n",
       "      <td>4</td>\n",
       "      <td>38</td>\n",
       "      <td>0.826087</td>\n",
       "    </tr>\n",
       "    <tr>\n",
       "      <td>2</td>\n",
       "      <td>But for me to rap like a computer it must be i...</td>\n",
       "      <td>1083</td>\n",
       "      <td>205</td>\n",
       "      <td>23</td>\n",
       "      <td>146</td>\n",
       "      <td>0.712195</td>\n",
       "    </tr>\n",
       "    <tr>\n",
       "      <td>3</td>\n",
       "      <td>'Cause I'm beginnin' to feel like a Rap God, R...</td>\n",
       "      <td>311</td>\n",
       "      <td>61</td>\n",
       "      <td>5</td>\n",
       "      <td>50</td>\n",
       "      <td>0.819672</td>\n",
       "    </tr>\n",
       "    <tr>\n",
       "      <td>4</td>\n",
       "      <td>Well, to be truthful the blueprint's\\nSimply r...</td>\n",
       "      <td>1467</td>\n",
       "      <td>282</td>\n",
       "      <td>32</td>\n",
       "      <td>190</td>\n",
       "      <td>0.673759</td>\n",
       "    </tr>\n",
       "  </tbody>\n",
       "</table>\n",
       "</div>"
      ],
      "text/plain": [
       "                                              lyrics  #characters  #words  \\\n",
       "0  \"Look, I was gonna go easy on you not to hurt ...          459      87   \n",
       "1  I'm beginnin' to feel like a Rap God, Rap God\\...          215      46   \n",
       "2  But for me to rap like a computer it must be i...         1083     205   \n",
       "3  'Cause I'm beginnin' to feel like a Rap God, R...          311      61   \n",
       "4  Well, to be truthful the blueprint's\\nSimply r...         1467     282   \n",
       "\n",
       "   #lines  #uniq_words  lexical_density  \n",
       "0       7           76         0.873563  \n",
       "1       4           38         0.826087  \n",
       "2      23          146         0.712195  \n",
       "3       5           50         0.819672  \n",
       "4      32          190         0.673759  "
      ]
     },
     "execution_count": 214,
     "metadata": {},
     "output_type": "execute_result"
    }
   ],
   "source": [
    "# characters, words, lines, unique words, density\n",
    "df['#characters'] = df.lyrics.str.len()\n",
    "df['#words'] = df.lyrics.str.split().str.len()\n",
    "df['#lines'] = df.lyrics.str.split('\\n').str.len()\n",
    "df['#uniq_words'] = df.lyrics.apply(lambda x: len(set(x.split())))\n",
    "df['lexical_density'] = df['#uniq_words'] / df['#words']\n",
    "df.head()"
   ]
  },
  {
   "cell_type": "code",
   "execution_count": 217,
   "metadata": {
    "scrolled": true
   },
   "outputs": [
    {
     "data": {
      "text/plain": [
       "<matplotlib.axes._subplots.AxesSubplot at 0x1a3885e4d0>"
      ]
     },
     "execution_count": 217,
     "metadata": {},
     "output_type": "execute_result"
    },
    {
     "data": {
      "image/png": "[encoded data removed]",
      "text/plain": [
       "<Figure size 432x288 with 1 Axes>"
      ]
     },
     "metadata": {
      "needs_background": "light"
     },
     "output_type": "display_data"
    }
   ],
   "source": [
    "# top short words\n",
    "pd.Series(' '.join(df.lyrics).lower().split()).value_counts()[:20][::-1].plot(kind='barh')"
   ]
  },
  {
   "cell_type": "code",
   "execution_count": 218,
   "metadata": {},
   "outputs": [
    {
     "data": {
      "text/plain": [
       "<matplotlib.axes._subplots.AxesSubplot at 0x1a38848a50>"
      ]
     },
     "execution_count": 218,
     "metadata": {},
     "output_type": "execute_result"
    },
    {
     "data": {
      "image/png": "[encoded data removed]",
      "text/plain": [
       "<Figure size 432x288 with 1 Axes>"
      ]
     },
     "metadata": {
      "needs_background": "light"
     },
     "output_type": "display_data"
    }
   ],
   "source": [
    "# top long words\n",
    "pd.Series([w for w in ' '.join(df.lyrics).lower().split() if len(w) > 7]).value_counts()[:20][::-1].plot(kind='barh')"
   ]
  },
  {
   "cell_type": "code",
   "execution_count": 215,
   "metadata": {},
   "outputs": [],
   "source": [
    "# tokenize by sentence\n",
    "sentences = sent_tokenize(lyrics)"
   ]
  },
  {
   "cell_type": "code",
   "execution_count": 216,
   "metadata": {},
   "outputs": [],
   "source": [
    "# tokenize by word in a sentence\n",
    "tokenized_sentences = [list(map(str.lower, word_tokenize(sent))) \n",
    "                  for sent in sent_tokenize(lyrics)]"
   ]
  },
  {
   "cell_type": "code",
   "execution_count": 189,
   "metadata": {},
   "outputs": [],
   "source": [
    "# train/test split\n",
    "train, test = train_test_split(tokenized_sentences, test_size = 0.2, random_state = 1)"
   ]
  },
  {
   "cell_type": "markdown",
   "metadata": {},
   "source": [
    "## Models"
   ]
  },
  {
   "cell_type": "markdown",
   "metadata": {},
   "source": [
    "#### N-grams"
   ]
  },
  {
   "cell_type": "code",
   "execution_count": 7,
   "metadata": {},
   "outputs": [],
   "source": [
    "# define function to clean generated text\n",
    "def generate_sent(model, num_words, random_seed = 1):\n",
    "    detokenize = TreebankWordDetokenizer().detokenize\n",
    "    content = []\n",
    "    for token in model.generate(num_words, random_seed=random_seed):\n",
    "        if token == '<s>':\n",
    "            continue\n",
    "        if token == '</s>':\n",
    "            break\n",
    "        content.append(token)\n",
    "    return detokenize(content)"
   ]
  },
  {
   "cell_type": "code",
   "execution_count": 22,
   "metadata": {},
   "outputs": [],
   "source": [
    "# define function to form a text from model result\n",
    "# pretty sure it can be done much easier and results actually suck\n",
    "\n",
    "abbreviations = {'dr.': 'doctor', 'mr.': 'mister', 'bro.': 'brother', 'bro': 'brother', 'mrs.': 'mistress', 'ms.': 'miss', 'jr.': 'junior', 'sr.': 'senior',\n",
    "                 'i.e.': 'for example', 'e.g.': 'for example', 'vs.': 'versus'}\n",
    "terminators = ['.', ',', '!', '?', ')']\n",
    "wrappers = ['\"', \"'\", ')', ']', '}']\n",
    "def find_sentences(paragraph):\n",
    "   end = True\n",
    "   sentences = []\n",
    "   while end > -1:\n",
    "       end = find_sentence_end(paragraph)\n",
    "       if end > -1:\n",
    "           sentences.append(paragraph[end:].strip())\n",
    "           paragraph = paragraph[:end]\n",
    "   sentences.append(paragraph)\n",
    "   sentences.reverse()\n",
    "   return sentences\n",
    "\n",
    "def find_sentence_end(paragraph):\n",
    "    [possible_endings, contraction_locations] = [[], []]\n",
    "    contractions = abbreviations.keys()\n",
    "    sentence_terminators = terminators + [terminator + wrapper for wrapper in wrappers for terminator in terminators]\n",
    "    for sentence_terminator in sentence_terminators:\n",
    "        t_indices = list(find_all(paragraph, sentence_terminator))\n",
    "        possible_endings.extend(([] if not len(t_indices) else [[i, len(sentence_terminator)] for i in t_indices]))\n",
    "    for contraction in contractions:\n",
    "        c_indices = list(find_all(paragraph, contraction))\n",
    "        contraction_locations.extend(([] if not len(c_indices) else [i + len(contraction) for i in c_indices]))\n",
    "    possible_endings = [pe for pe in possible_endings if pe[0] + pe[1] not in contraction_locations]\n",
    "    if len(paragraph) in [pe[0] + pe[1] for pe in possible_endings]:\n",
    "        max_end_start = max([pe[0] for pe in possible_endings])\n",
    "        possible_endings = [pe for pe in possible_endings if pe[0] != max_end_start]\n",
    "    possible_endings = [pe[0] + pe[1] for pe in possible_endings if sum(pe) > len(paragraph) or (sum(pe) < len(paragraph) and paragraph[sum(pe)] == ' ')]\n",
    "    end = (-1 if not len(possible_endings) else max(possible_endings))\n",
    "    return end\n",
    "\n",
    "def find_all(a_str, sub):\n",
    "    start = 0\n",
    "    while True:\n",
    "        start = a_str.find(sub, start)\n",
    "        if start == -1:\n",
    "            return\n",
    "        yield start\n",
    "        start += len(sub)"
   ]
  },
  {
   "cell_type": "markdown",
   "metadata": {},
   "source": [
    "### Bigram model"
   ]
  },
  {
   "cell_type": "code",
   "execution_count": 220,
   "metadata": {},
   "outputs": [
    {
     "data": {
      "text/plain": [
       "<matplotlib.axes._subplots.AxesSubplot at 0x1a393886d0>"
      ]
     },
     "execution_count": 220,
     "metadata": {},
     "output_type": "execute_result"
    },
    {
     "data": {
      "image/png": "[encoded data removed]",
      "text/plain": [
       "<Figure size 432x288 with 1 Axes>"
      ]
     },
     "metadata": {
      "needs_background": "light"
     },
     "output_type": "display_data"
    }
   ],
   "source": [
    "# most common ngrams\n",
    "def get_ngrams_from_series(series, n=2):\n",
    "    lines = ' '.join(series).lower().split('\\n')\n",
    "    lgrams = [ngrams(l.split(), n) for l in lines]\n",
    "    grams = [[' '.join(g) for g in list(lg)] for lg in lgrams]\n",
    "    return [item for sublist in grams for item in sublist]\n",
    "pd.Series(get_ngrams_from_series(df.lyrics, 2)).value_counts()[:20][::-1].plot(kind='barh')"
   ]
  },
  {
   "cell_type": "code",
   "execution_count": 187,
   "metadata": {},
   "outputs": [],
   "source": [
    "# create vocabulary\n",
    "train, vocab = padded_everygram_pipeline(2, tokenized_sentences)"
   ]
  },
  {
   "cell_type": "code",
   "execution_count": 188,
   "metadata": {},
   "outputs": [],
   "source": [
    "# padding\n",
    "train, padded_sents = padded_everygram_pipeline(2, tokenized_sentences)"
   ]
  },
  {
   "cell_type": "code",
   "execution_count": 117,
   "metadata": {},
   "outputs": [],
   "source": [
    "model = MLE(2)"
   ]
  },
  {
   "cell_type": "code",
   "execution_count": 124,
   "metadata": {},
   "outputs": [],
   "source": [
    "model.fit(train, padded_sents)"
   ]
  },
  {
   "cell_type": "code",
   "execution_count": 125,
   "metadata": {},
   "outputs": [
    {
     "name": "stdout",
     "output_type": "stream",
     "text": [
      "['pieces', 'of', 'course', 'you', ',', 'people', ',', 'stop', ',', 'self-absorption', 'skeletor', ',', 'i', 'suffer', 'this', 'battle', 'a', 'weapon', \"i'ma\", 'kill', 'him', 'when', 'he', 'played', 'that', \"'s\", 'god', ',', 'know', 'my', 'swag', 'juice', ',', 'why', '?', ')', 'it', 'pours', '—', 'you', 'think', 'i', 'meant', 'to', 'be', 'like', 'a', 'cigarette', 'now', 'let', 'yourself', \"''\", 'and', 'your', 'shit', 'get', 'down', 'my', 'dreams', 'last', 'rock', 'bottom', 'like', 'he', 'dawg', 'from', 'futons', 'to', 'my', 'head', 'up', 'a', 'grip', ',', 'i', \"'m\", 'ill', 'though', '(', 'you', 'only', 'time', 'it', 'dies', 'as', 'i', \"'m\", 'east', 'side', 'chick', 'with', 'the', 'people', \"'s\", 'driving', 'do', \"n't\", 'have', 'pictures', 'so']\n"
     ]
    }
   ],
   "source": [
    "print(model.generate(100, random_seed=24))"
   ]
  },
  {
   "cell_type": "code",
   "execution_count": 126,
   "metadata": {},
   "outputs": [
    {
     "data": {
      "text/plain": [
       "'pieces of course you, people, stop, self-absorption skeletor, i suffer this battle a weapon i\\'ma kill him when he played that\\'s god, know my swag juice, why?) it pours — you think i meant to be like a cigarette now let yourself\"and your shit get down my dreams last rock bottom like he dawg from futons to my head up a grip, i\\'m ill though (you only time it dies as i\\'m east side chick with the people\\'s driving don\\'t have pictures so'"
      ]
     },
     "execution_count": 126,
     "metadata": {},
     "output_type": "execute_result"
    }
   ],
   "source": [
    "generate_sent(model, 100, random_seed=24)"
   ]
  },
  {
   "cell_type": "code",
   "execution_count": 127,
   "metadata": {
    "scrolled": true
   },
   "outputs": [
    {
     "data": {
      "text/plain": [
       "['pieces of course you,',\n",
       " 'people,',\n",
       " 'stop,',\n",
       " 'self-absorption skeletor,',\n",
       " \"i suffer this battle a weapon i'ma kill him when he played that's god,\",\n",
       " 'know my swag juice,',\n",
       " 'why?)',\n",
       " 'it pours — you think i meant to be like a cigarette now let yourself\"and your shit get down my dreams last rock bottom like he dawg from futons to my head up a grip,',\n",
       " \"i'm ill though (you only time it dies as i'm east side chick with the people's driving don't have pictures so\"]"
      ]
     },
     "execution_count": 127,
     "metadata": {},
     "output_type": "execute_result"
    }
   ],
   "source": [
    "find_sentences(generate_sent(model, 100, random_seed=24))"
   ]
  },
  {
   "cell_type": "markdown",
   "metadata": {},
   "source": [
    "**Evaluation of perplexity**"
   ]
  },
  {
   "cell_type": "markdown",
   "metadata": {},
   "source": [
    "I only managed to get perplexity for bigrams and can't sum it, perplexity for model is infinite, which is strange"
   ]
  },
  {
   "cell_type": "code",
   "execution_count": 203,
   "metadata": {},
   "outputs": [
    {
     "name": "stdout",
     "output_type": "stream",
     "text": [
      "PP(<generator object bigrams at 0x1a2e0016d0>):35.75139420187558\n",
      "PP(<generator object bigrams at 0x1a2e001750>):30.205729058388233\n",
      "PP(<generator object bigrams at 0x1a2e001a50>):25.539847648884347\n",
      "PP(<generator object bigrams at 0x1a2e0013d0>):12.07013921966602\n",
      "PP(<generator object bigrams at 0x1a2e001ad0>):29.165990896225424\n",
      "PP(<generator object bigrams at 0x1a2e001ed0>):40.142941971308844\n",
      "PP(<generator object bigrams at 0x1a2e001f50>):31.600609912848675\n",
      "PP(<generator object bigrams at 0x1a2e001850>):31.95826288502495\n",
      "PP(<generator object bigrams at 0x1a2e001cd0>):40.50561151648028\n",
      "PP(<generator object bigrams at 0x1a2e001b50>):16.435708394223834\n",
      "PP(<generator object bigrams at 0x1a2e001950>):38.99246114184008\n",
      "PP(<generator object bigrams at 0x1a2e0019d0>):36.0637988330813\n",
      "PP(<generator object bigrams at 0x1a2e001650>):31.257581081401614\n",
      "PP(<generator object bigrams at 0x1a2e001450>):12.695879043055392\n",
      "PP(<generator object bigrams at 0x1a2e0018d0>):30.215458201869076\n",
      "PP(<generator object bigrams at 0x1a2e001d50>):47.55961800005076\n",
      "PP(<generator object bigrams at 0x10b04a450>):40.21673561975911\n",
      "PP(<generator object bigrams at 0x1a2e001e50>):10.858947782103444\n",
      "PP(<generator object bigrams at 0x10b04a3d0>):27.822516675235253\n",
      "PP(<generator object bigrams at 0x10b04a250>):36.92320137101983\n",
      "PP(<generator object bigrams at 0x10b04a4d0>):31.80083317427847\n",
      "PP(<generator object bigrams at 0x10b04a1d0>):32.107073967741236\n",
      "PP(<generator object bigrams at 0x10b04a650>):37.19338714298518\n",
      "PP(<generator object bigrams at 0x10b04a8d0>):29.69987066331861\n",
      "PP(<generator object bigrams at 0x10b04a550>):26.26302063629104\n",
      "PP(<generator object bigrams at 0x10b04a2d0>):35.40857363141496\n",
      "PP(<generator object bigrams at 0x10b04a350>):20.789248070253663\n",
      "PP(<generator object bigrams at 0x10b04a850>):26.26302063629104\n",
      "PP(<generator object bigrams at 0x10b04a750>):38.013602091763325\n",
      "PP(<generator object bigrams at 0x10b04a5d0>):27.264513621816217\n",
      "PP(<generator object bigrams at 0x10b04a6d0>):31.135081649959822\n",
      "PP(<generator object bigrams at 0x10b04a950>):38.12815939805781\n",
      "PP(<generator object bigrams at 0x10b04aad0>):38.99080986017307\n",
      "PP(<generator object bigrams at 0x10b04a9d0>):28.605453493000855\n",
      "PP(<generator object bigrams at 0x10b04aa50>):49.600455689802274\n",
      "PP(<generator object bigrams at 0x10b04ac50>):13.25032084697465\n",
      "PP(<generator object bigrams at 0x10b04ab50>):23.43968284008635\n",
      "PP(<generator object bigrams at 0x10b04a7d0>):39.5589611511719\n",
      "PP(<generator object bigrams at 0x10b04ad50>):37.793668562396256\n",
      "PP(<generator object bigrams at 0x10b04abd0>):53.95957190231724\n",
      "PP(<generator object bigrams at 0x10b04acd0>):40.24943283565371\n",
      "PP(<generator object bigrams at 0x10b04af50>):29.81564385138657\n",
      "PP(<generator object bigrams at 0x10b04ae50>):26.59507760269443\n",
      "PP(<generator object bigrams at 0x10b04aed0>):46.55070395257634\n",
      "PP(<generator object bigrams at 0x10b04add0>):46.712739503694\n",
      "PP(<generator object bigrams at 0x10b03c0d0>):46.06825030507384\n",
      "PP(<generator object bigrams at 0x10b03c050>):39.25372351237027\n",
      "PP(<generator object bigrams at 0x1a2e7ff350>):39.10472127462895\n",
      "PP(<generator object bigrams at 0x1a2e7ff3d0>):22.38053218192433\n",
      "PP(<generator object bigrams at 0x1a2e7ff650>):53.23792434006392\n",
      "PP(<generator object bigrams at 0x1a2e7ff2d0>):33.38514106081019\n",
      "PP(<generator object bigrams at 0x1a2e7ff1d0>):39.925825905764505\n",
      "PP(<generator object bigrams at 0x1a2e7ff250>):17.221097480312526\n",
      "PP(<generator object bigrams at 0x1a2e7ff4d0>):22.38053218192433\n",
      "PP(<generator object bigrams at 0x1a2e7ff950>):36.8725337376044\n",
      "PP(<generator object bigrams at 0x1a2e7ff550>):36.492085001595996\n",
      "PP(<generator object bigrams at 0x1a2e7ff450>):45.2882683108538\n",
      "PP(<generator object bigrams at 0x1a2e7ff150>):32.784758066637444\n",
      "PP(<generator object bigrams at 0x1a2e7ff6d0>):47.0588885504274\n",
      "PP(<generator object bigrams at 0x1a2e7ff8d0>):67.12513219177627\n",
      "PP(<generator object bigrams at 0x1a2e7ff750>):50.78539113502348\n",
      "PP(<generator object bigrams at 0x1a2e7ff7d0>):40.65589076114902\n",
      "PP(<generator object bigrams at 0x1a2e7ff5d0>):13.936450103274208\n",
      "PP(<generator object bigrams at 0x1a2e7ffbd0>):28.754729392549628\n",
      "PP(<generator object bigrams at 0x1a2e7ffc50>):13.81360587033272\n",
      "PP(<generator object bigrams at 0x1a2e7ff850>):41.90327999352438\n",
      "PP(<generator object bigrams at 0x1a2e7ff9d0>):35.684069733716896\n",
      "PP(<generator object bigrams at 0x1a2e7ffad0>):31.149620837828408\n",
      "PP(<generator object bigrams at 0x1a2e7ffa50>):55.664944305430176\n",
      "PP(<generator object bigrams at 0x1a2e7fff50>):37.22616427293705\n",
      "PP(<generator object bigrams at 0x1a2e7ffdd0>):40.17430853692643\n",
      "PP(<generator object bigrams at 0x1a2e7ffd50>):33.162635678635496\n",
      "PP(<generator object bigrams at 0x1a2e7ffb50>):15.622179756424691\n",
      "PP(<generator object bigrams at 0x1a2e7ffcd0>):24.4756945702559\n",
      "PP(<generator object bigrams at 0x1a2e7ffe50>):26.065942416881487\n",
      "PP(<generator object bigrams at 0x1a2e7ffed0>):34.25881437261117\n",
      "PP(<generator object bigrams at 0x10bd7e6d0>):52.27712766197467\n",
      "PP(<generator object bigrams at 0x10bd7e8d0>):33.162635678635496\n",
      "PP(<generator object bigrams at 0x1a2e8230d0>):15.951734668853675\n",
      "PP(<generator object bigrams at 0x1a2e823150>):40.074981062452935\n",
      "PP(<generator object bigrams at 0x1a2e823050>):26.512903230819262\n",
      "PP(<generator object bigrams at 0x1a23dfbe50>):32.98990959108403\n",
      "PP(<generator object bigrams at 0x1a23dfbc50>):37.0074267511999\n",
      "PP(<generator object bigrams at 0x1a23dfbf50>):19.290337224466356\n",
      "PP(<generator object bigrams at 0x1a23dfb850>):36.07590769449511\n",
      "PP(<generator object bigrams at 0x1a23dfb8d0>):16.873744961432045\n",
      "PP(<generator object bigrams at 0x1a23dfba50>):43.75000446053828\n",
      "PP(<generator object bigrams at 0x1a23dfb9d0>):17.403434669812206\n",
      "PP(<generator object bigrams at 0x1a23dfb7d0>):40.7760906097157\n",
      "PP(<generator object bigrams at 0x1a23dfbb50>):27.815755474877218\n",
      "PP(<generator object bigrams at 0x1a23dfbad0>):29.08405236516726\n",
      "PP(<generator object bigrams at 0x1a23dfbcd0>):29.81192311941774\n",
      "PP(<generator object bigrams at 0x1a23dfbdd0>):43.81934692631713\n",
      "PP(<generator object bigrams at 0x1a23dfbd50>):31.935743453956032\n",
      "PP(<generator object bigrams at 0x1a23dfbbd0>):32.932639389826655\n",
      "PP(<generator object bigrams at 0x1a23dfbed0>):48.815421116060556\n",
      "PP(<generator object bigrams at 0x1a23dfb950>):25.344389973594655\n",
      "PP(<generator object bigrams at 0x1a23ebf250>):27.425144226958558\n",
      "PP(<generator object bigrams at 0x1a23ebf050>):41.31870880587282\n",
      "PP(<generator object bigrams at 0x1a23ebf0d0>):64.23542002797785\n",
      "PP(<generator object bigrams at 0x1a23ebf1d0>):35.44304493762356\n",
      "PP(<generator object bigrams at 0x1a23ebf350>):12.666736075808313\n",
      "PP(<generator object bigrams at 0x1a23ebf5d0>):32.252790039241916\n",
      "PP(<generator object bigrams at 0x1a23ebf2d0>):38.15584266471992\n",
      "PP(<generator object bigrams at 0x1a23ebf3d0>):47.78253071214371\n",
      "PP(<generator object bigrams at 0x1a23ebf450>):43.4323645392414\n",
      "PP(<generator object bigrams at 0x1a23ebf150>):27.063652694783137\n",
      "PP(<generator object bigrams at 0x1a23ebf6d0>):38.93950538424213\n",
      "PP(<generator object bigrams at 0x1a23ebf4d0>):30.226730363309226\n",
      "PP(<generator object bigrams at 0x1a23ebf650>):29.749118252518876\n",
      "PP(<generator object bigrams at 0x1a23ebf750>):38.280462427369265\n",
      "PP(<generator object bigrams at 0x1a23ebf550>):9.063351541521202\n",
      "PP(<generator object bigrams at 0x1a2e57c9d0>):44.032841292039734\n",
      "PP(<generator object bigrams at 0x1a2e57ca50>):27.685125356463903\n",
      "PP(<generator object bigrams at 0x1a2e57cad0>):23.094490756126742\n",
      "PP(<generator object bigrams at 0x1a2e57cc50>):40.80532795447692\n",
      "PP(<generator object bigrams at 0x1a2e57cb50>):30.006909765377543\n",
      "PP(<generator object bigrams at 0x1a2e57cdd0>):41.332819304702696\n",
      "PP(<generator object bigrams at 0x1a2e57cd50>):28.03418428613404\n",
      "PP(<generator object bigrams at 0x1a2e57ce50>):37.06049045115738\n",
      "PP(<generator object bigrams at 0x1a2e57cbd0>):37.52065740842592\n",
      "PP(<generator object bigrams at 0x1a2e57ccd0>):18.853511479842425\n",
      "PP(<generator object bigrams at 0x1a2e57cf50>):46.04440511320989\n",
      "PP(<generator object bigrams at 0x1a2e57ced0>):40.77939961459422\n",
      "PP(<generator object bigrams at 0x1a2d476050>):42.64143555167396\n",
      "PP(<generator object bigrams at 0x1a2d4760d0>):47.35285905967711\n",
      "PP(<generator object bigrams at 0x1a2d476150>):42.2433685701582\n",
      "PP(<generator object bigrams at 0x1a2d4761d0>):17.736949548080624\n",
      "PP(<generator object bigrams at 0x1a2d476250>):13.854601904024063\n",
      "PP(<generator object bigrams at 0x1a2d4762d0>):24.501097423725696\n",
      "PP(<generator object bigrams at 0x1a2d476350>):30.215458201869076\n",
      "PP(<generator object bigrams at 0x1a2d4763d0>):43.9247630201525\n",
      "PP(<generator object bigrams at 0x1a2d476450>):25.222686756481497\n",
      "PP(<generator object bigrams at 0x1a2d4764d0>):34.72598505655515\n",
      "PP(<generator object bigrams at 0x1a2d476550>):39.05981200735447\n",
      "PP(<generator object bigrams at 0x1a2d4765d0>):30.837444983639386\n",
      "PP(<generator object bigrams at 0x1a2d476650>):51.758949720780485\n",
      "PP(<generator object bigrams at 0x1a2d4766d0>):35.9627000797062\n",
      "PP(<generator object bigrams at 0x1a2d476750>):15.492781917606193\n",
      "PP(<generator object bigrams at 0x1a2d4767d0>):13.476479564869592\n",
      "PP(<generator object bigrams at 0x1a2d476850>):32.59640182983416\n",
      "PP(<generator object bigrams at 0x1a2d4768d0>):66.52676186020588\n",
      "PP(<generator object bigrams at 0x1a2d476950>):21.174335992975145\n",
      "PP(<generator object bigrams at 0x1a23ea79d0>):39.568509656333525\n",
      "PP(<generator object bigrams at 0x1a23ea7a50>):33.43771932998417\n",
      "PP(<generator object bigrams at 0x1a23ea7ad0>):35.342030520407135\n",
      "PP(<generator object bigrams at 0x1a23ea7b50>):23.845557262726928\n",
      "PP(<generator object bigrams at 0x1a23ea7bd0>):29.473499751616586\n",
      "PP(<generator object bigrams at 0x1a23ea7c50>):34.31554457795246\n",
      "PP(<generator object bigrams at 0x1a23ea7cd0>):46.31817047320152\n",
      "PP(<generator object bigrams at 0x1a23ea7d50>):13.797054868355644\n",
      "PP(<generator object bigrams at 0x1a23ea7dd0>):10.166813474350302\n",
      "PP(<generator object bigrams at 0x1a23ea7e50>):12.07013921966602\n",
      "PP(<generator object bigrams at 0x1a23ea7ed0>):42.15208434801408\n",
      "PP(<generator object bigrams at 0x1a23ea7f50>):35.392033022606206\n",
      "PP(<generator object bigrams at 0x1a2e67bd50>):14.62178603953035\n",
      "PP(<generator object bigrams at 0x1a2e67bdd0>):11.505059652106281\n",
      "PP(<generator object bigrams at 0x1a2e67be50>):47.122960570355474\n",
      "PP(<generator object bigrams at 0x1a2e67bed0>):40.22628617681944\n",
      "PP(<generator object bigrams at 0x1a2e67bf50>):36.71653212743304\n",
      "PP(<generator object bigrams at 0x10b0a7050>):32.54756468474969\n",
      "PP(<generator object bigrams at 0x10b0a70d0>):36.61911365999824\n",
      "PP(<generator object bigrams at 0x10b0a7150>):38.1157711284012\n",
      "PP(<generator object bigrams at 0x10b0a71d0>):23.344922753466363\n",
      "PP(<generator object bigrams at 0x10b0a7250>):37.709712775444714\n",
      "PP(<generator object bigrams at 0x10b0a72d0>):31.550993753652058\n",
      "PP(<generator object bigrams at 0x10b0a7350>):25.140722770016506\n",
      "PP(<generator object bigrams at 0x10b0a73d0>):27.430422367301475\n",
      "PP(<generator object bigrams at 0x10b0a7450>):36.98397669467704\n",
      "PP(<generator object bigrams at 0x10b0a74d0>):26.852354286754473\n",
      "PP(<generator object bigrams at 0x10b0a7550>):32.80758748295394\n",
      "PP(<generator object bigrams at 0x10b0a75d0>):36.458794862646435\n",
      "PP(<generator object bigrams at 0x10b0a7650>):44.018476141592316\n",
      "PP(<generator object bigrams at 0x10b0a76d0>):47.91543869829209\n",
      "PP(<generator object bigrams at 0x10b0a7750>):28.55827378248638\n",
      "PP(<generator object bigrams at 0x10b0a77d0>):37.48686187661489\n",
      "PP(<generator object bigrams at 0x10b0a7850>):40.50917694572942\n",
      "PP(<generator object bigrams at 0x10b0a78d0>):35.226461081673165\n",
      "PP(<generator object bigrams at 0x10b0a7950>):41.454818607361304\n",
      "PP(<generator object bigrams at 0x10b0a79d0>):38.70207459810706\n",
      "PP(<generator object bigrams at 0x10b0a7a50>):27.741633461514805\n",
      "PP(<generator object bigrams at 0x10b0a7ad0>):33.247908853499524\n",
      "PP(<generator object bigrams at 0x1a23ec0050>):38.74943802696377\n",
      "PP(<generator object bigrams at 0x1a23ec00d0>):25.944913465985376\n",
      "PP(<generator object bigrams at 0x1a23ec0150>):31.56659689376969\n",
      "PP(<generator object bigrams at 0x1a23ec01d0>):37.23815341234342\n",
      "PP(<generator object bigrams at 0x1a23ec0250>):44.312924109565756\n",
      "PP(<generator object bigrams at 0x1a23ec02d0>):25.628490788433783\n",
      "PP(<generator object bigrams at 0x1a23ec0350>):28.03869000121512\n",
      "PP(<generator object bigrams at 0x1a23ec03d0>):37.94550790717086\n",
      "PP(<generator object bigrams at 0x1a23ec0450>):17.19995580524022\n",
      "PP(<generator object bigrams at 0x1a23ec04d0>):40.05370042735138\n",
      "PP(<generator object bigrams at 0x1a23ec0550>):35.7093825961015\n",
      "PP(<generator object bigrams at 0x1a23ec05d0>):15.951734668853675\n",
      "PP(<generator object bigrams at 0x1a23ec0650>):13.35502721868942\n",
      "PP(<generator object bigrams at 0x1a23ec06d0>):36.38251752675181\n",
      "PP(<generator object bigrams at 0x1a23ec0750>):50.76667163023227\n",
      "PP(<generator object bigrams at 0x1a23ec07d0>):38.78593884012435\n",
      "PP(<generator object bigrams at 0x1a23ec0850>):23.002776071176033\n",
      "PP(<generator object bigrams at 0x1a23ec08d0>):32.57866263282271\n",
      "PP(<generator object bigrams at 0x1a23ec0950>):34.64725519722909\n",
      "PP(<generator object bigrams at 0x1a2435ba50>):15.651099625053886\n",
      "PP(<generator object bigrams at 0x1a2435b6d0>):30.8167516157547\n",
      "PP(<generator object bigrams at 0x1a2435b250>):38.78571498583236\n",
      "PP(<generator object bigrams at 0x1a2435b1d0>):175.9378702155783\n",
      "PP(<generator object bigrams at 0x1a24812150>):50.30329290750325\n",
      "PP(<generator object bigrams at 0x1a24812650>):36.98397669467704\n",
      "PP(<generator object bigrams at 0x1a248120d0>):34.559159595135945\n",
      "PP(<generator object bigrams at 0x1a248121d0>):27.977643810459064\n",
      "PP(<generator object bigrams at 0x1a24812950>):15.246210046188656\n",
      "PP(<generator object bigrams at 0x1a248126d0>):49.488033024848036\n",
      "PP(<generator object bigrams at 0x1a2db67450>):23.97246136635351\n",
      "PP(<generator object bigrams at 0x1a2db671d0>):17.573250767409014\n",
      "PP(<generator object bigrams at 0x1a2db672d0>):51.146726162027505\n",
      "PP(<generator object bigrams at 0x1a2db67f50>):31.97603509018985\n",
      "PP(<generator object bigrams at 0x1a2db67250>):32.46486823867223\n",
      "PP(<generator object bigrams at 0x1a2db67850>):40.75408623396834\n",
      "PP(<generator object bigrams at 0x1a2db675d0>):31.47844496696288\n",
      "PP(<generator object bigrams at 0x1a2db67950>):35.215164308220594\n",
      "PP(<generator object bigrams at 0x1a2db677d0>):37.94141218755971\n",
      "PP(<generator object bigrams at 0x1a2db67650>):13.936450103274208\n"
     ]
    },
    {
     "name": "stdout",
     "output_type": "stream",
     "text": [
      "PP(<generator object bigrams at 0x1a2db67ad0>):26.979025247787067\n",
      "PP(<generator object bigrams at 0x1a2db679d0>):18.531285215886406\n",
      "PP(<generator object bigrams at 0x1a2db67750>):27.977643810459064\n",
      "PP(<generator object bigrams at 0x1a2db673d0>):34.515025403955626\n",
      "PP(<generator object bigrams at 0x1a2db67cd0>):32.58284327761075\n",
      "PP(<generator object bigrams at 0x1a2db67a50>):51.840923182913926\n",
      "PP(<generator object bigrams at 0x1a2db67b50>):31.877474686796013\n",
      "PP(<generator object bigrams at 0x1a2db67c50>):12.010695778360786\n",
      "PP(<generator object bigrams at 0x1a2db67bd0>):37.143356939427974\n",
      "PP(<generator object bigrams at 0x1a2db67e50>):34.745733286804956\n",
      "PP(<generator object bigrams at 0x1a2db67d50>):23.002776071176033\n",
      "PP(<generator object bigrams at 0x1a2db67550>):36.18857099449796\n",
      "PP(<generator object bigrams at 0x1a2db67ed0>):11.432220669556319\n",
      "PP(<generator object bigrams at 0x1a2db67dd0>):28.873499087071664\n",
      "PP(<generator object bigrams at 0x1a2db690d0>):37.02669365678202\n",
      "PP(<generator object bigrams at 0x1a2db69150>):27.762934232443556\n",
      "PP(<generator object bigrams at 0x1a2db69350>):41.87068632248256\n",
      "PP(<generator object bigrams at 0x1a2db693d0>):38.084119731673155\n",
      "PP(<generator object bigrams at 0x1a2db692d0>):29.88310777502423\n",
      "PP(<generator object bigrams at 0x1a2db691d0>):41.30294806088993\n",
      "PP(<generator object bigrams at 0x1a2db69250>):32.35571219896634\n",
      "PP(<generator object bigrams at 0x1a2db694d0>):36.45327846567213\n",
      "PP(<generator object bigrams at 0x1a2db69450>):42.13119378079115\n",
      "PP(<generator object bigrams at 0x1a2db69550>):39.435184679167804\n",
      "PP(<generator object bigrams at 0x1a2db695d0>):44.683530966697276\n",
      "PP(<generator object bigrams at 0x1a2db696d0>):28.75121524252041\n",
      "PP(<generator object bigrams at 0x1a2db69650>):30.26734216991183\n",
      "PP(<generator object bigrams at 0x1a2db69750>):45.51282193353245\n",
      "PP(<generator object bigrams at 0x1a2db69a50>):12.795181464626044\n",
      "PP(<generator object bigrams at 0x1a2db69850>):12.695879043055392\n",
      "PP(<generator object bigrams at 0x1a2db69950>):34.01586136213262\n",
      "PP(<generator object bigrams at 0x1a2db697d0>):57.35873602421356\n",
      "PP(<generator object bigrams at 0x1a2db69ad0>):47.64758152596391\n",
      "PP(<generator object bigrams at 0x1a2db699d0>):39.80841458265246\n",
      "PP(<generator object bigrams at 0x1a2db698d0>):15.354069496321072\n",
      "PP(<generator object bigrams at 0x1a2db69bd0>):46.69038316297207\n",
      "PP(<generator object bigrams at 0x1a2db69b50>):38.89487529738316\n",
      "PP(<generator object bigrams at 0x1a2db69cd0>):51.89500726665415\n",
      "PP(<generator object bigrams at 0x1a2db69d50>):39.80127199981934\n",
      "PP(<generator object bigrams at 0x1a2db69ed0>):15.492781917606193\n",
      "PP(<generator object bigrams at 0x1a2db69f50>):41.07500162415568\n",
      "PP(<generator object bigrams at 0x1a2db69e50>):60.647293629960906\n",
      "PP(<generator object bigrams at 0x1a2db69dd0>):37.21754149482188\n",
      "PP(<generator object bigrams at 0x1a2db69c50>):24.133212658192566\n",
      "PP(<generator object bigrams at 0x1a2df320d0>):24.733423243317723\n",
      "PP(<generator object bigrams at 0x1a2df321d0>):14.021034901793056\n",
      "PP(<generator object bigrams at 0x1a2df322d0>):31.65994522375382\n",
      "PP(<generator object bigrams at 0x1a2e5495d0>):20.733003153542573\n",
      "PP(<generator object bigrams at 0x1a2e549050>):38.38957193887197\n",
      "PP(<generator object bigrams at 0x1a2e5490d0>):17.95430905243023\n",
      "PP(<generator object bigrams at 0x1a2e549150>):13.318213455345298\n",
      "PP(<generator object bigrams at 0x1a2e5491d0>):30.596690576409877\n",
      "PP(<generator object bigrams at 0x1a2e549250>):22.50753970283446\n",
      "PP(<generator object bigrams at 0x1a2e5492d0>):34.154068036756684\n",
      "PP(<generator object bigrams at 0x1a2e549350>):47.93432038941108\n",
      "PP(<generator object bigrams at 0x1a2e549450>):36.046898028478736\n",
      "PP(<generator object bigrams at 0x1a2e5494d0>):56.10991802708297\n",
      "PP(<generator object bigrams at 0x1a2e5493d0>):24.714815207898134\n",
      "PP(<generator object bigrams at 0x1a2e549550>):18.717984301410986\n",
      "PP(<generator object bigrams at 0x1a2e5396d0>):49.65065463754429\n",
      "PP(<generator object bigrams at 0x1a2e539750>):12.754436782145257\n",
      "PP(<generator object bigrams at 0x1a2e539850>):31.155214982996494\n",
      "PP(<generator object bigrams at 0x1a2e5397d0>):44.11646801556291\n",
      "PP(<generator object bigrams at 0x1a2e539950>):47.82460106934454\n",
      "PP(<generator object bigrams at 0x1a2e5398d0>):33.673147628983806\n",
      "PP(<generator object bigrams at 0x1a2e5399d0>):19.043904346484254\n",
      "PP(<generator object bigrams at 0x1a2e539ad0>):23.002776071176033\n",
      "PP(<generator object bigrams at 0x1a2e539bd0>):22.673272212501896\n",
      "PP(<generator object bigrams at 0x1a2e539a50>):36.626357345672446\n",
      "PP(<generator object bigrams at 0x1a2e539b50>):27.977643810459064\n",
      "PP(<generator object bigrams at 0x1a2e539c50>):26.403466395116585\n",
      "PP(<generator object bigrams at 0x1a2e539d50>):13.81360587033272\n",
      "PP(<generator object bigrams at 0x1a2e539cd0>):33.349126626651355\n",
      "PP(<generator object bigrams at 0x1a2e539e50>):38.18206551626297\n",
      "PP(<generator object bigrams at 0x1a2e539ed0>):22.85527506937466\n",
      "PP(<generator object bigrams at 0x1a2e539f50>):41.50642374608898\n",
      "PP(<generator object bigrams at 0x1a2e539dd0>):32.67923065608848\n",
      "PP(<generator object bigrams at 0x1a2e55d0d0>):29.276267209582745\n",
      "PP(<generator object bigrams at 0x1a2e55d050>):24.428430416010396\n",
      "PP(<generator object bigrams at 0x1a2e55d1d0>):15.245843389476258\n",
      "PP(<generator object bigrams at 0x1a2e55d150>):21.581202447129797\n",
      "PP(<generator object bigrams at 0x1a2e55d2d0>):25.116162371253548\n",
      "PP(<generator object bigrams at 0x1a2e55d350>):21.792739034954963\n",
      "PP(<generator object bigrams at 0x1a2e55d250>):39.461149125068914\n",
      "PP(<generator object bigrams at 0x1a2e55d3d0>):30.95920477259458\n",
      "PP(<generator object bigrams at 0x1a2e55d450>):53.014138418104174\n",
      "PP(<generator object bigrams at 0x1a2e55d550>):42.185139780300275\n",
      "PP(<generator object bigrams at 0x1a2e55d4d0>):45.820090290092104\n",
      "PP(<generator object bigrams at 0x1a2e55d5d0>):9.706268119899434\n",
      "PP(<generator object bigrams at 0x1a2e560750>):19.00170095214374\n",
      "PP(<generator object bigrams at 0x1a2e5607d0>):34.75421646210821\n",
      "PP(<generator object bigrams at 0x1a2e5606d0>):34.2169160394827\n",
      "PP(<generator object bigrams at 0x1a2e5608d0>):41.385067866282675\n",
      "PP(<generator object bigrams at 0x1a2e560850>):23.210124887141042\n",
      "PP(<generator object bigrams at 0x1a2e560950>):27.083971479561733\n",
      "PP(<generator object bigrams at 0x1a2e5609d0>):38.506111784165206\n",
      "PP(<generator object bigrams at 0x1a2e560ad0>):29.137544107362164\n",
      "PP(<generator object bigrams at 0x1a2e560a50>):38.762304447503304\n",
      "PP(<generator object bigrams at 0x1a2e560c50>):15.927019613010433\n",
      "PP(<generator object bigrams at 0x1a2e560b50>):37.71374954023274\n",
      "PP(<generator object bigrams at 0x1a2e560bd0>):33.072289038269446\n",
      "PP(<generator object bigrams at 0x1a2e560cd0>):39.40422920735256\n",
      "PP(<generator object bigrams at 0x1a2e560d50>):13.81360587033272\n",
      "PP(<generator object bigrams at 0x1a2e560e50>):40.9046005952086\n",
      "PP(<generator object bigrams at 0x1a2e560ed0>):39.58905319606088\n",
      "PP(<generator object bigrams at 0x1a2e560dd0>):42.40886051747838\n",
      "PP(<generator object bigrams at 0x1a2e560f50>):30.12722907725227\n",
      "PP(<generator object bigrams at 0x1a2db5e6d0>):23.397331961099272\n",
      "PP(<generator object bigrams at 0x1a2db5e050>):18.598819000589565\n",
      "PP(<generator object bigrams at 0x1a2db5e0d0>):33.28987719939304\n",
      "PP(<generator object bigrams at 0x1a2db5e150>):18.28435745115459\n",
      "PP(<generator object bigrams at 0x1a2db5e250>):34.31038813178813\n",
      "PP(<generator object bigrams at 0x1a2db5e1d0>):38.467431878938285\n",
      "PP(<generator object bigrams at 0x1a2db5e2d0>):19.290337224466356\n",
      "PP(<generator object bigrams at 0x1a2db5e3d0>):39.92091516031503\n",
      "PP(<generator object bigrams at 0x1a2db5e450>):27.631031398458088\n",
      "PP(<generator object bigrams at 0x1a2db5e350>):20.400248993393518\n",
      "PP(<generator object bigrams at 0x1a2db5e4d0>):41.04719671136857\n",
      "PP(<generator object bigrams at 0x1a2db5e5d0>):28.677424495559713\n",
      "PP(<generator object bigrams at 0x1a2db5e550>):35.13161207674817\n",
      "PP(<generator object bigrams at 0x1a2db5e650>):25.853782408649312\n",
      "PP(<generator object bigrams at 0x1a2e5486d0>):26.819696827336205\n",
      "PP(<generator object bigrams at 0x1a2e548750>):26.545040364040464\n",
      "PP(<generator object bigrams at 0x1a2e5487d0>):31.51462849558017\n",
      "PP(<generator object bigrams at 0x1a2e548850>):12.988446074892545\n",
      "PP(<generator object bigrams at 0x1a2e5488d0>):40.11256811713295\n",
      "PP(<generator object bigrams at 0x1a2e548950>):14.26907550791733\n",
      "PP(<generator object bigrams at 0x1a2e5489d0>):12.349175234540665\n",
      "PP(<generator object bigrams at 0x1a2e548ad0>):33.678369080927446\n",
      "PP(<generator object bigrams at 0x1a2e548a50>):38.318524176426436\n",
      "PP(<generator object bigrams at 0x1a2e548bd0>):35.52453336971035\n",
      "PP(<generator object bigrams at 0x1a2e548b50>):25.61245182498426\n",
      "PP(<generator object bigrams at 0x1a2e548cd0>):36.87305187219788\n",
      "PP(<generator object bigrams at 0x1a2e548c50>):50.98282799351565\n",
      "PP(<generator object bigrams at 0x1a2e548d50>):40.791037631271394\n",
      "PP(<generator object bigrams at 0x1a2e548dd0>):40.594201052085126\n",
      "PP(<generator object bigrams at 0x1a2e548e50>):61.22704068004029\n",
      "PP(<generator object bigrams at 0x1a2e548ed0>):21.191399692005152\n",
      "PP(<generator object bigrams at 0x1a2e548f50>):15.354069496321072\n",
      "PP(<generator object bigrams at 0x1a2e760d50>):12.351720253696453\n",
      "PP(<generator object bigrams at 0x1a2e760050>):29.661687778916495\n",
      "PP(<generator object bigrams at 0x1a2e7600d0>):24.061467440758893\n",
      "PP(<generator object bigrams at 0x1a2e760150>):39.18637515332033\n",
      "PP(<generator object bigrams at 0x1a2e760250>):38.92435824970579\n",
      "PP(<generator object bigrams at 0x1a2e7601d0>):25.313429213477196\n",
      "PP(<generator object bigrams at 0x1a2e7602d0>):39.18348417071537\n",
      "PP(<generator object bigrams at 0x1a2e7603d0>):36.27318084799084\n",
      "PP(<generator object bigrams at 0x1a2e760350>):24.912686142980053\n",
      "PP(<generator object bigrams at 0x1a2e7605d0>):49.915244797603904\n",
      "PP(<generator object bigrams at 0x1a2e760450>):15.548733607314503\n",
      "PP(<generator object bigrams at 0x1a2e7604d0>):25.570775897300905\n",
      "PP(<generator object bigrams at 0x1a2e760550>):29.85610261180553\n",
      "PP(<generator object bigrams at 0x1a2e7606d0>):43.93073606569192\n",
      "PP(<generator object bigrams at 0x1a2e760650>):47.241012045710136\n",
      "PP(<generator object bigrams at 0x1a2e7607d0>):25.805450355677994\n",
      "PP(<generator object bigrams at 0x1a2e760850>):25.801629522156034\n",
      "PP(<generator object bigrams at 0x1a2e7609d0>):28.27259957270343\n",
      "PP(<generator object bigrams at 0x1a2e760750>):20.400168793765847\n",
      "PP(<generator object bigrams at 0x1a2e7608d0>):29.542830119649235\n",
      "PP(<generator object bigrams at 0x1a2e760a50>):57.550544968049465\n",
      "PP(<generator object bigrams at 0x1a2e760950>):38.90038078369069\n",
      "PP(<generator object bigrams at 0x1a2e760ad0>):16.510188201267542\n",
      "PP(<generator object bigrams at 0x1a2e760bd0>):33.04753817662329\n",
      "PP(<generator object bigrams at 0x1a2e760cd0>):37.25878793306796\n",
      "PP(<generator object bigrams at 0x1a2e760f50>):36.15546635774436\n",
      "PP(<generator object bigrams at 0x1a2e760c50>):35.18889182583614\n",
      "PP(<generator object bigrams at 0x1a2e760b50>):15.927019613010433\n",
      "PP(<generator object bigrams at 0x1a37d3c050>):32.02900999515735\n",
      "PP(<generator object bigrams at 0x1a37d3c0d0>):22.445560714207705\n",
      "PP(<generator object bigrams at 0x1a37d3c150>):31.383043766486523\n",
      "PP(<generator object bigrams at 0x1a37d3c1d0>):43.19950048513794\n",
      "PP(<generator object bigrams at 0x1a37d3c250>):60.69177543494931\n",
      "PP(<generator object bigrams at 0x1a37d3c2d0>):19.991885390530868\n",
      "PP(<generator object bigrams at 0x1a37d3c350>):25.652567392050038\n",
      "PP(<generator object bigrams at 0x1a37d3c3d0>):36.995599126033305\n",
      "PP(<generator object bigrams at 0x1a37d3c450>):15.605085022733657\n",
      "PP(<generator object bigrams at 0x1a37d3c4d0>):32.429671004503795\n",
      "PP(<generator object bigrams at 0x1a37d3c550>):14.094064229463314\n",
      "PP(<generator object bigrams at 0x1a37d3c5d0>):22.262229222528195\n",
      "PP(<generator object bigrams at 0x1a37d3c650>):26.93633914367044\n",
      "PP(<generator object bigrams at 0x1a37d3c6d0>):39.148888315999216\n",
      "PP(<generator object bigrams at 0x1a37d3c750>):34.74009947864344\n",
      "PP(<generator object bigrams at 0x1a37d3c7d0>):27.89396605509875\n",
      "PP(<generator object bigrams at 0x1a37d3c850>):40.234641148750214\n",
      "PP(<generator object bigrams at 0x1a37d3c8d0>):26.599813602368258\n",
      "PP(<generator object bigrams at 0x1a37d3c950>):43.48085590102108\n",
      "PP(<generator object bigrams at 0x1a37d3c9d0>):19.884354888403077\n",
      "PP(<generator object bigrams at 0x1a37d3ca50>):34.06327645449678\n",
      "PP(<generator object bigrams at 0x1a37d3cad0>):41.353848040756695\n",
      "PP(<generator object bigrams at 0x1a37d3cb50>):26.379009512003062\n",
      "PP(<generator object bigrams at 0x1a37d3cbd0>):23.845557262726928\n",
      "PP(<generator object bigrams at 0x1a37d3cc50>):32.81553858711387\n",
      "PP(<generator object bigrams at 0x1a37d3ccd0>):38.67639272265087\n",
      "PP(<generator object bigrams at 0x1a37d3cd50>):25.0411629939286\n"
     ]
    },
    {
     "name": "stdout",
     "output_type": "stream",
     "text": [
      "PP(<generator object bigrams at 0x1a37d3cdd0>):33.67098065703998\n",
      "PP(<generator object bigrams at 0x1a37d3ce50>):27.430422367301475\n",
      "PP(<generator object bigrams at 0x1a37d3ced0>):34.75313433984323\n",
      "PP(<generator object bigrams at 0x1a37d3cf50>):46.18235983425886\n",
      "PP(<generator object bigrams at 0x1a37d42050>):36.95585005168227\n",
      "PP(<generator object bigrams at 0x1a37d420d0>):20.80670367092035\n",
      "PP(<generator object bigrams at 0x1a37d42150>):24.057305646282273\n",
      "PP(<generator object bigrams at 0x1a37d421d0>):33.686939280267495\n",
      "PP(<generator object bigrams at 0x1a37d42250>):39.72957060626687\n",
      "PP(<generator object bigrams at 0x1a37d422d0>):28.83092313206781\n",
      "PP(<generator object bigrams at 0x1a37d42350>):12.695879043055392\n",
      "PP(<generator object bigrams at 0x1a37d423d0>):37.211069527928984\n",
      "PP(<generator object bigrams at 0x1a37d42450>):24.364600662634366\n",
      "PP(<generator object bigrams at 0x1a37d424d0>):33.218395105975866\n",
      "PP(<generator object bigrams at 0x1a37d42550>):33.72620448764071\n",
      "PP(<generator object bigrams at 0x1a37d425d0>):16.656635864174056\n",
      "PP(<generator object bigrams at 0x1a37d42650>):25.31577335406618\n",
      "PP(<generator object bigrams at 0x1a37d426d0>):37.901162332827425\n",
      "PP(<generator object bigrams at 0x1a37d42750>):32.260347674217435\n",
      "PP(<generator object bigrams at 0x1a37d427d0>):32.46454073269224\n",
      "PP(<generator object bigrams at 0x1a37d42850>):6.27510208681251\n",
      "PP(<generator object bigrams at 0x1a37d428d0>):36.51527156535729\n",
      "PP(<generator object bigrams at 0x1a37d42950>):35.1288945204352\n",
      "PP(<generator object bigrams at 0x1a37d429d0>):25.013639252903904\n",
      "PP(<generator object bigrams at 0x1a37d42a50>):46.37841454958371\n",
      "PP(<generator object bigrams at 0x1a37d42ad0>):20.135533187015813\n",
      "PP(<generator object bigrams at 0x1a37d42b50>):47.47169988018967\n",
      "PP(<generator object bigrams at 0x1a37d42bd0>):15.492781917606193\n",
      "PP(<generator object bigrams at 0x1a37d42c50>):24.55937144660066\n",
      "PP(<generator object bigrams at 0x1a37d42cd0>):26.479585721166686\n",
      "PP(<generator object bigrams at 0x1a37d42d50>):39.87514555140002\n",
      "PP(<generator object bigrams at 0x1a37d42dd0>):31.372128078346147\n",
      "PP(<generator object bigrams at 0x1a37d42e50>):47.611714369439355\n",
      "PP(<generator object bigrams at 0x1a37d42ed0>):60.022003756601165\n",
      "PP(<generator object bigrams at 0x1a37d42f50>):12.989493091050914\n",
      "PP(<generator object bigrams at 0x1a37d49050>):37.53239385500903\n",
      "PP(<generator object bigrams at 0x1a37d490d0>):26.208840438996315\n",
      "PP(<generator object bigrams at 0x1a37d49150>):14.441766364439296\n",
      "PP(<generator object bigrams at 0x1a37d491d0>):13.854601904024063\n",
      "PP(<generator object bigrams at 0x1a37d49250>):41.97066843930689\n",
      "PP(<generator object bigrams at 0x1a37d492d0>):44.05072511359555\n",
      "PP(<generator object bigrams at 0x1a37d49350>):50.89751823642078\n",
      "PP(<generator object bigrams at 0x1a37d493d0>):30.918606113976832\n",
      "PP(<generator object bigrams at 0x1a37d49450>):26.127376973605337\n",
      "PP(<generator object bigrams at 0x1a37d494d0>):38.931059615952684\n",
      "PP(<generator object bigrams at 0x1a37d49550>):32.72492233748228\n",
      "PP(<generator object bigrams at 0x1a37d495d0>):31.539388996938694\n",
      "PP(<generator object bigrams at 0x1a37d49650>):10.205511797660638\n",
      "PP(<generator object bigrams at 0x1a37d496d0>):36.31034897178457\n",
      "PP(<generator object bigrams at 0x1a37d49750>):38.22785372956301\n",
      "PP(<generator object bigrams at 0x1a37d497d0>):40.91218555199597\n",
      "PP(<generator object bigrams at 0x1a37d49850>):34.47400454281762\n",
      "PP(<generator object bigrams at 0x1a37d498d0>):27.93424531580121\n",
      "PP(<generator object bigrams at 0x1a37d49950>):29.369033566939112\n",
      "PP(<generator object bigrams at 0x1a37d499d0>):46.964163328729605\n"
     ]
    }
   ],
   "source": [
    "#Perplexity for bigrams\n",
    "test_data = [nltk.bigrams(t,  pad_right=True, pad_left=True, left_pad_symbol=\"<s>\", right_pad_symbol=\"</s>\") for t in tokenized_text]\n",
    "for i, test in enumerate(test_data):\n",
    "    print(\"PP({0}):{1}\" .format(test, model.perplexity(test)))"
   ]
  },
  {
   "cell_type": "code",
   "execution_count": 167,
   "metadata": {},
   "outputs": [
    {
     "data": {
      "text/plain": [
       "inf"
      ]
     },
     "execution_count": 167,
     "metadata": {},
     "output_type": "execute_result"
    }
   ],
   "source": [
    "# overall perplexity\n",
    "model.perplexity(test)"
   ]
  },
  {
   "cell_type": "markdown",
   "metadata": {},
   "source": [
    "### Trigram model"
   ]
  },
  {
   "cell_type": "code",
   "execution_count": 26,
   "metadata": {},
   "outputs": [],
   "source": [
    "# create vocabulary\n",
    "train, vocab = padded_everygram_pipeline(3, tokenized_sentences)"
   ]
  },
  {
   "cell_type": "code",
   "execution_count": 27,
   "metadata": {},
   "outputs": [],
   "source": [
    "# padding\n",
    "train, padded_sents_3 = padded_everygram_pipeline(3, tokenized_sentences)"
   ]
  },
  {
   "cell_type": "code",
   "execution_count": 28,
   "metadata": {},
   "outputs": [],
   "source": [
    "model_1 = MLE(3)"
   ]
  },
  {
   "cell_type": "code",
   "execution_count": 29,
   "metadata": {},
   "outputs": [],
   "source": [
    "model_1.fit(train, padded_sents_3)"
   ]
  },
  {
   "cell_type": "code",
   "execution_count": 30,
   "metadata": {},
   "outputs": [
    {
     "name": "stdout",
     "output_type": "stream",
     "text": [
      "['over', 'these', 'hoes', 'wo', \"n't\", 'lock', 'it', ',', 'ca', \"n't\", 'see', 'what', 'it', 'sounds', 'like', 'a', 'nightstick', '(', 'yeah', ')', 'do', 'you', 'date', 'my', 'friends', 'ca', \"n't\", 'cum', 'in', 'her', 'vagina', 'said', 'my', 'last', 'album', ',', 'then', 'walk', 'up', 'to', 'the', 'dear', \"'ol\", 'dad', 'that', 'i', \"'m\", 'at', 'your', 'throat', 'when', 'you', 'laugh', 'i', 'can', 'just', 'open', 'enough', 'eyes', 'later', 'on', 'and', 'prolong', 'these', 'moments', '‘', 'cause', 'i', \"don't\", 'and', 'why', ',', 'look', ',', 'if', 'i', 'forget', 'to', 'bring', 'your', 'lipstick', 'wit', \"'\", 'ya', 'digs', 'in', 'the', 'dirt', 'and', 'fuck', 'your', 'republican', 'views', 'pull', 'ourselves', 'up', 'by', 'our', 'bootstraps', ',']\n"
     ]
    }
   ],
   "source": [
    "print(model_1.generate(100, random_seed=24))"
   ]
  },
  {
   "cell_type": "code",
   "execution_count": 31,
   "metadata": {
    "scrolled": false
   },
   "outputs": [
    {
     "data": {
      "text/plain": [
       "\"over these hoes won't lock it, can't see what it sounds like a nightstick (yeah) do you date my friends can't cum in her vagina said my last album, then walk up to the dear 'ol dad that i'm at your throat when you laugh i can just open enough eyes later on and prolong these moments ‘ cause i don't and why, look, if i forget to bring your lipstick wit' ya digs in the dirt and fuck your republican views pull ourselves up by our bootstraps ,\""
      ]
     },
     "execution_count": 31,
     "metadata": {},
     "output_type": "execute_result"
    }
   ],
   "source": [
    "generate_sent(model_1, 100, random_seed=24)"
   ]
  },
  {
   "cell_type": "code",
   "execution_count": 32,
   "metadata": {},
   "outputs": [
    {
     "data": {
      "text/plain": [
       "[\"over these hoes won't lock it,\",\n",
       " \"can't see what it sounds like a nightstick (yeah)\",\n",
       " \"do you date my friends can't cum in her vagina said my last album,\",\n",
       " \"then walk up to the dear 'ol dad that i'm at your throat when you laugh i can just open enough eyes later on and prolong these moments ‘ cause i don't and why,\",\n",
       " 'look,',\n",
       " \"if i forget to bring your lipstick wit' ya digs in the dirt and fuck your republican views pull ourselves up by our bootstraps ,\"]"
      ]
     },
     "execution_count": 32,
     "metadata": {},
     "output_type": "execute_result"
    }
   ],
   "source": [
    "find_sentences(generate_sent(model_1, 100, random_seed=24))"
   ]
  },
  {
   "cell_type": "code",
   "execution_count": 190,
   "metadata": {},
   "outputs": [
    {
     "data": {
      "text/plain": [
       "inf"
      ]
     },
     "execution_count": 190,
     "metadata": {},
     "output_type": "execute_result"
    }
   ],
   "source": [
    "# overall perplexity\n",
    "model_1.perplexity(test)"
   ]
  },
  {
   "cell_type": "markdown",
   "metadata": {},
   "source": [
    "### Four-gram"
   ]
  },
  {
   "cell_type": "code",
   "execution_count": 33,
   "metadata": {},
   "outputs": [],
   "source": [
    "# create vocabulary\n",
    "train, vocab = padded_everygram_pipeline(4, tokenized_sentences)"
   ]
  },
  {
   "cell_type": "code",
   "execution_count": 34,
   "metadata": {},
   "outputs": [],
   "source": [
    "# padding\n",
    "train, padded_sents_4 = padded_everygram_pipeline(4, tokenized_sentences)"
   ]
  },
  {
   "cell_type": "code",
   "execution_count": 35,
   "metadata": {},
   "outputs": [],
   "source": [
    "model_2 = MLE(4)"
   ]
  },
  {
   "cell_type": "code",
   "execution_count": 36,
   "metadata": {},
   "outputs": [],
   "source": [
    "model_2.fit(train, padded_sents_4)"
   ]
  },
  {
   "cell_type": "code",
   "execution_count": 37,
   "metadata": {},
   "outputs": [
    {
     "name": "stdout",
     "output_type": "stream",
     "text": [
      "['way', 'you', 'shake', 'it', ',', 'i', 'ai', \"n't\", 'fo', \"'\", 'that', 'shit', 'behind', 'my', 'back', ',', 'dirty', \"mackin'\", 'tellin', \"'\", 'your', 'boys', 'that', 'i', \"'m\", 'from', 'will', 'pummel', 'you', ',', 'that', \"'s\", 'none', 'of', 'your', 'dang', 'skulls', ';', 'i', \"'m\", 'infinite', 'bust', 'it', ',', 'i', \"'m\", 'mixin', \"'\", 'our', 'studio', 'session', 'down', 'and', 'sendin', \"'\", 'it', 'to', 'masterin', \"'\", 'to', 'make', 'it', 'right', ',', 'so', 'here', \"'s\", 'how', 'i', 'knew', 'my', 'mission', 'little', 'boom', 'box', 'boomin', \"'\", ',', \"spittin'\", 'practicin', \"'\", 'numerous', 'writtens', 'when', 'i', \"'d\", 'sit', 'in', 'my', 'room', ',', 'yeah', ',', 'i', 'never', 'knew', 'i', ',', 'knew', 'i']\n"
     ]
    }
   ],
   "source": [
    "print(model_2.generate(100, random_seed=23))"
   ]
  },
  {
   "cell_type": "code",
   "execution_count": 38,
   "metadata": {},
   "outputs": [
    {
     "data": {
      "text/plain": [
       "\"way you shake it, i ain't fo' that shit behind my back, dirty mackin' tellin' your boys that i'm from will pummel you, that's none of your dang skulls; i'm infinite bust it, i'm mixin' our studio session down and sendin' it to masterin' to make it right, so here's how i knew my mission little boom box boomin', spittin' practicin' numerous writtens when i'd sit in my room, yeah, i never knew i, knew i\""
      ]
     },
     "execution_count": 38,
     "metadata": {},
     "output_type": "execute_result"
    }
   ],
   "source": [
    "generate_sent(model_2, 100, random_seed=23)"
   ]
  },
  {
   "cell_type": "code",
   "execution_count": 39,
   "metadata": {},
   "outputs": [
    {
     "data": {
      "text/plain": [
       "['way you shake it,',\n",
       " \"i ain't fo' that shit behind my back,\",\n",
       " \"dirty mackin' tellin' your boys that i'm from will pummel you,\",\n",
       " \"that's none of your dang skulls; i'm infinite bust it,\",\n",
       " \"i'm mixin' our studio session down and sendin' it to masterin' to make it right,\",\n",
       " \"so here's how i knew my mission little boom box boomin',\",\n",
       " \"spittin' practicin' numerous writtens when i'd sit in my room,\",\n",
       " 'yeah,',\n",
       " 'i never knew i,',\n",
       " 'knew i']"
      ]
     },
     "execution_count": 39,
     "metadata": {},
     "output_type": "execute_result"
    }
   ],
   "source": [
    "find_sentences(generate_sent(model_2, 100, random_seed=23))"
   ]
  },
  {
   "cell_type": "code",
   "execution_count": 191,
   "metadata": {
    "scrolled": true
   },
   "outputs": [
    {
     "data": {
      "text/plain": [
       "inf"
      ]
     },
     "execution_count": 191,
     "metadata": {},
     "output_type": "execute_result"
    }
   ],
   "source": [
    "# overall perplexity\n",
    "model_2.perplexity(test)"
   ]
  },
  {
   "cell_type": "markdown",
   "metadata": {},
   "source": [
    "### Five-gram"
   ]
  },
  {
   "cell_type": "code",
   "execution_count": 192,
   "metadata": {},
   "outputs": [],
   "source": [
    "# create vocabulary\n",
    "train, vocab = padded_everygram_pipeline(5, tokenized_sentences)"
   ]
  },
  {
   "cell_type": "code",
   "execution_count": 193,
   "metadata": {},
   "outputs": [],
   "source": [
    "# padding\n",
    "train, padded_sents_5 = padded_everygram_pipeline(5, tokenized_sentences)"
   ]
  },
  {
   "cell_type": "code",
   "execution_count": 194,
   "metadata": {},
   "outputs": [],
   "source": [
    "model_3 = MLE(5)"
   ]
  },
  {
   "cell_type": "code",
   "execution_count": 195,
   "metadata": {},
   "outputs": [],
   "source": [
    "model_3.fit(train, padded_sents_5)"
   ]
  },
  {
   "cell_type": "code",
   "execution_count": 196,
   "metadata": {},
   "outputs": [
    {
     "name": "stdout",
     "output_type": "stream",
     "text": [
      "['was', 'watchin', \"'\", '8', 'mile', 'on', 'my', 'nordictrack', 'realized', 'i', 'forgot', 'to', 'call', 'you', 'back', 'here', \"'s\", 'that', 'autograph', 'for', 'your', 'daughter', ',', 'i', 'wrote', 'it', 'on', 'a', 'starter', 'cap', 'i', \"'m\", 'sorry', 'i', 'had', 'a', 'friend', 'kill', 'himself', 'over', 'some', 'bitch', 'who', 'did', \"n't\", 'want', 'him', 'i', 'know', 'you', 'probably', 'hear', 'this', 'every', 'day', ',', 'but', 'i', \"'m\", \"freezin'\", 'bedridden', 'and', 'destined', 'never', 'to', 'leave', 'the', 'bedroom', 'ever', 'again', ',', 'like', 'we', 'used', 'to', 'be', 'when', 'i', 'first', 'introduced', \"y'all\", 'to', 'my', 'skittish', 'side', 'and', 'blamed', 'it', 'on', 'him', 'when', 'they', 'tried', 'to', 'criticize', '‘', 'cause', 'we', 'are', 'the']\n"
     ]
    }
   ],
   "source": [
    "print(model_3.generate(100, random_seed=23))"
   ]
  },
  {
   "cell_type": "code",
   "execution_count": 201,
   "metadata": {},
   "outputs": [
    {
     "name": "stdout",
     "output_type": "stream",
     "text": [
      "['was', 'watchin', \"'\", '8', 'mile', 'on', 'my', 'nordictrack', 'realized', 'i', 'forgot', 'to', 'call', 'you', 'back', 'here', \"'s\", 'that', 'autograph', 'for', 'your', 'daughter', ',', 'i', 'wrote', 'it', 'on', 'a', 'starter', 'cap', 'i', \"'m\", 'sorry', 'i', 'had', 'a', 'friend', 'kill', 'himself', 'over', 'some', 'bitch', 'who', 'did', \"n't\", 'want', 'him', 'i', 'know', 'you', 'probably', 'hear', 'this', 'every', 'day', ',', 'but', 'i', \"'m\", \"freezin'\", 'bedridden', 'and', 'destined', 'never', 'to', 'leave', 'the', 'bedroom', 'ever', 'again', ',', 'like', 'we', 'used', 'to', 'be', 'when', 'i', 'first', 'introduced', \"y'all\", 'to', 'my', 'skittish', 'side', 'and', 'blamed', 'it', 'on', 'him', 'when', 'they', 'tried', 'to', 'criticize', '‘', 'cause', 'we', 'are', 'the']\n"
     ]
    }
   ],
   "source": [
    "print(model_3.generate(100, random_seed=23))"
   ]
  },
  {
   "cell_type": "code",
   "execution_count": 200,
   "metadata": {},
   "outputs": [
    {
     "data": {
      "text/plain": [
       "\"was watchin' 8 mile on my nordictrack realized i forgot to call you back here's that autograph for your daughter, i wrote it on a starter cap i'm sorry i had a friend kill himself over some bitch who didn't want him i know you probably hear this every day, but i'm freezin' bedridden and destined never to leave the bedroom ever again, like we used to be when i first introduced y'all to my skittish side and blamed it on him when they tried to criticize ‘ cause we are the\""
      ]
     },
     "execution_count": 200,
     "metadata": {},
     "output_type": "execute_result"
    }
   ],
   "source": [
    "generate_sent(model_3, 100, random_seed=23)"
   ]
  },
  {
   "cell_type": "code",
   "execution_count": 202,
   "metadata": {},
   "outputs": [
    {
     "data": {
      "text/plain": [
       "[\"was watchin' 8 mile on my nordictrack realized i forgot to call you back here's that autograph for your daughter,\",\n",
       " \"i wrote it on a starter cap i'm sorry i had a friend kill himself over some bitch who didn't want him i know you probably hear this every day,\",\n",
       " \"but i'm freezin' bedridden and destined never to leave the bedroom ever again,\",\n",
       " \"like we used to be when i first introduced y'all to my skittish side and blamed it on him when they tried to criticize ‘ cause we are the\"]"
      ]
     },
     "execution_count": 202,
     "metadata": {},
     "output_type": "execute_result"
    }
   ],
   "source": [
    "find_sentences(generate_sent(model_3, 100, random_seed=23))"
   ]
  },
  {
   "cell_type": "markdown",
   "metadata": {},
   "source": [
    "was watchin' 8 mile on my nordictrack realized i forgot to call you back\n",
    "\n",
    "\n",
    "WOW! an actual rhyme??? too good to be true - well, turns out it's the complete sentence from Eminem and model just tosses almost complete sentences - this is kind of overfit\n",
    "\n",
    "perplexity is, of course, infinite"
   ]
  },
  {
   "cell_type": "markdown",
   "metadata": {},
   "source": [
    "##### Overall comment"
   ]
  },
  {
   "cell_type": "markdown",
   "metadata": {},
   "source": [
    "Since perplexity is infinite, I need to somehow fix models, I can assume that the higher the number of n in ngrams the low the perplexity, because the text actually starts to make more sense with more ngrams\n",
    "\n",
    "\n",
    "But 5-gram model led to clear overfit, where instead of generating new text model started just to change position of existing sentences. Possibly, more data could have fixed the problem"
   ]
  },
  {
   "cell_type": "markdown",
   "metadata": {},
   "source": [
    "### Markov chain model"
   ]
  },
  {
   "cell_type": "code",
   "execution_count": 227,
   "metadata": {},
   "outputs": [],
   "source": [
    "import re\n",
    "import random\n",
    "from collections import defaultdict\n",
    "\n",
    "\n",
    "class MarkovRachaita:\n",
    "    def __init__(self, corpus='', order=2, length=8):\n",
    "        self.order = order\n",
    "        self.length = length\n",
    "        self.words = re.findall(\"[a-z']+\", corpus.lower())\n",
    "        self.states = defaultdict(list)\n",
    "\n",
    "        for i in range(len(self.words) - self.order):\n",
    "            self.states[tuple(self.words[i:i + self.order])].append(self.words[i + order])\n",
    "\n",
    "    def gen_sentence(self, length=8, startswith=None):\n",
    "        terms = None\n",
    "        if startswith:\n",
    "            start_seed = [x for x in self.states.keys() if startswith in x]\n",
    "            if start_seed:\n",
    "                terms = list(start_seed[0])\n",
    "        if terms is None:\n",
    "            start_seed = random.randint(0, len(self.words) - self.order)\n",
    "            terms = self.words[start_seed:start_seed + self.order]\n",
    "\n",
    "        for _ in range(length):\n",
    "            terms.append(random.choice(self.states[tuple(terms[-self.order:])]))\n",
    "\n",
    "        return ' '.join(terms)\n",
    "\n",
    "    def gen_song(self, lines=10, length=8, length_range=None, startswith=None):\n",
    "        song = []\n",
    "        if startswith:\n",
    "            song.append(self.gen_sentence(length=length, startswith=startswith))\n",
    "            lines -= 1\n",
    "        for _ in range(lines):\n",
    "            sent_len = random.randint(*length_range) if length_range else length\n",
    "            song.append(self.gen_sentence(length=sent_len))\n",
    "        return '\\n'.join(song)"
   ]
  },
  {
   "cell_type": "code",
   "execution_count": 229,
   "metadata": {
    "scrolled": true
   },
   "outputs": [],
   "source": [
    "eminem = MarkovRachaita(corpus=' '.join(df.lyrics))\n",
    "song = eminem.gen_song(lines=10, length_range=[5, 10])"
   ]
  },
  {
   "cell_type": "code",
   "execution_count": 230,
   "metadata": {
    "scrolled": true
   },
   "outputs": [
    {
     "data": {
      "text/plain": [
       "[\"on my chest wasn't having to sell their\",\n",
       " \"let me ever let 'em go go go\",\n",
       " \"weinstein of i'm a sucker born snuck up on some next shit\",\n",
       " 'the rock bottom when you get too blunted off of chaos so',\n",
       " \"it's not with fists but with what having to get through to\",\n",
       " \"pills and tells him he's got his fangs to your face before\",\n",
       " \"as i run shit misplacin' my anger enough to make you wanna\",\n",
       " \"could it ever cease for pete's sake he's crazy to say\",\n",
       " \"up out of give me one minute you're bodyin' shit\",\n",
       " \"don't blame me cause we need a second grader this\"]"
      ]
     },
     "execution_count": 230,
     "metadata": {},
     "output_type": "execute_result"
    }
   ],
   "source": [
    "song.split(\"\\n\")"
   ]
  },
  {
   "cell_type": "markdown",
   "metadata": {},
   "source": [
    "Well, some words have sense but still far from perfection"
   ]
  },
  {
   "cell_type": "markdown",
   "metadata": {},
   "source": [
    "### RNN model"
   ]
  },
  {
   "cell_type": "code",
   "execution_count": 92,
   "metadata": {},
   "outputs": [],
   "source": [
    "# import additional packages\n",
    "import tensorflow as tf\n",
    "import time"
   ]
  },
  {
   "cell_type": "code",
   "execution_count": 93,
   "metadata": {},
   "outputs": [],
   "source": [
    "# prepare data\n",
    "text = open('Lyrics_Eminem.txt', 'rb').read().decode(encoding='utf-8')\n",
    "vocab = sorted(set(text))"
   ]
  },
  {
   "cell_type": "code",
   "execution_count": 94,
   "metadata": {},
   "outputs": [],
   "source": [
    "# Creating a mapping from unique characters to indices\n",
    "char2idx = {u:i for i, u in enumerate(vocab)}\n",
    "idx2char = np.array(vocab)\n",
    "text_as_int = np.array([char2idx[c] for c in text])"
   ]
  },
  {
   "cell_type": "code",
   "execution_count": 95,
   "metadata": {},
   "outputs": [],
   "source": [
    "# The maximum length sentence for a single input in characters\n",
    "seq_length = 100\n",
    "examples_per_epoch = len(text)//(seq_length+1)\n",
    "\n",
    "# Create training examples / targets\n",
    "char_dataset = tf.data.Dataset.from_tensor_slices(text_as_int)"
   ]
  },
  {
   "cell_type": "code",
   "execution_count": 96,
   "metadata": {},
   "outputs": [
    {
     "name": "stdout",
     "output_type": "stream",
     "text": [
      "'\"Look, I was gonna go easy on you not to hurt your feelings.\"\\n\"But I\\'m only going to get this one cha'\n",
      "'nce.\" (Six minutes— Six minutes—)\\n\"Something\\'s wrong, I can feel it.\" (Six minutes, Slim Shady, you\\'r'\n",
      "'e on!)\\n\"Just a feeling I\\'ve got. Like something\\'s about to happen, but I don\\'t know what.\\xa0\\nIf that me'\n",
      "\"ans what I think it means, we're in trouble, big trouble;\\xa0\\nAnd if he is as bananas as you say, I'm no\"\n",
      "'t taking any chances.\"\\n\"You are just what the doc ordered.\"\\n\\nI\\'m beginnin\\' to feel like a Rap God, Ra'\n"
     ]
    }
   ],
   "source": [
    "# converting to sequences\n",
    "sequences = char_dataset.batch(seq_length+1, drop_remainder=True)\n",
    "\n",
    "for item in sequences.take(5):\n",
    "  print(repr(''.join(idx2char[item.numpy()])))"
   ]
  },
  {
   "cell_type": "code",
   "execution_count": 97,
   "metadata": {},
   "outputs": [],
   "source": [
    "# duplicate and shift it to form the input and target text\n",
    "def split_input_target(chunk):\n",
    "    input_text = chunk[:-1]\n",
    "    target_text = chunk[1:]\n",
    "    return input_text, target_text\n",
    "\n",
    "dataset = sequences.map(split_input_target)"
   ]
  },
  {
   "cell_type": "code",
   "execution_count": 99,
   "metadata": {},
   "outputs": [
    {
     "data": {
      "text/plain": [
       "<BatchDataset shapes: ((64, 100), (64, 100)), types: (tf.int64, tf.int64)>"
      ]
     },
     "execution_count": 99,
     "metadata": {},
     "output_type": "execute_result"
    }
   ],
   "source": [
    "# Batch & buffer size\n",
    "BATCH_SIZE = 64\n",
    "BUFFER_SIZE = 10000\n",
    "\n",
    "dataset = dataset.shuffle(BUFFER_SIZE).batch(BATCH_SIZE, drop_remainder=True)\n",
    "dataset"
   ]
  },
  {
   "cell_type": "code",
   "execution_count": 100,
   "metadata": {},
   "outputs": [],
   "source": [
    "# Length of the vocabulary in chars\n",
    "vocab_size = len(vocab)\n",
    "\n",
    "# The embedding dimension\n",
    "embedding_dim = 256\n",
    "\n",
    "# Number of RNN units\n",
    "rnn_units = 1024"
   ]
  },
  {
   "cell_type": "code",
   "execution_count": 101,
   "metadata": {},
   "outputs": [],
   "source": [
    "# model\n",
    "def build_model(vocab_size, embedding_dim, rnn_units, batch_size):\n",
    "  model = tf.keras.Sequential([\n",
    "    tf.keras.layers.Embedding(vocab_size, embedding_dim,\n",
    "                              batch_input_shape=[batch_size, None]),\n",
    "    tf.keras.layers.GRU(rnn_units,\n",
    "                        return_sequences=True,\n",
    "                        stateful=True,\n",
    "                        recurrent_initializer='glorot_uniform'),\n",
    "    tf.keras.layers.Dense(vocab_size)\n",
    "  ])\n",
    "  return model"
   ]
  },
  {
   "cell_type": "code",
   "execution_count": 102,
   "metadata": {},
   "outputs": [],
   "source": [
    "model = build_model(\n",
    "  vocab_size = len(vocab),\n",
    "  embedding_dim=embedding_dim,\n",
    "  rnn_units=rnn_units,\n",
    "  batch_size=BATCH_SIZE)"
   ]
  },
  {
   "cell_type": "code",
   "execution_count": 103,
   "metadata": {},
   "outputs": [
    {
     "name": "stdout",
     "output_type": "stream",
     "text": [
      "(64, 100, 102) # (batch_size, sequence_length, vocab_size)\n"
     ]
    }
   ],
   "source": [
    "for input_example_batch, target_example_batch in dataset.take(1):\n",
    "  example_batch_predictions = model(input_example_batch)\n",
    "  print(example_batch_predictions.shape, \"# (batch_size, sequence_length, vocab_size)\")"
   ]
  },
  {
   "cell_type": "code",
   "execution_count": 105,
   "metadata": {},
   "outputs": [
    {
     "name": "stdout",
     "output_type": "stream",
     "text": [
      "Prediction shape:  (64, 100, 102)  # (batch_size, sequence_length, vocab_size)\n",
      "scalar_loss:       4.626849\n"
     ]
    }
   ],
   "source": [
    "def loss(labels, logits):\n",
    "  return tf.keras.losses.sparse_categorical_crossentropy(labels, logits, from_logits=True)\n",
    "\n",
    "example_batch_loss  = loss(target_example_batch, example_batch_predictions)\n",
    "print(\"Prediction shape: \", example_batch_predictions.shape, \" # (batch_size, sequence_length, vocab_size)\")\n",
    "print(\"scalar_loss:      \", example_batch_loss.numpy().mean())"
   ]
  },
  {
   "cell_type": "code",
   "execution_count": 107,
   "metadata": {},
   "outputs": [],
   "source": [
    "model.compile(optimizer='adam', loss=loss)"
   ]
  },
  {
   "cell_type": "code",
   "execution_count": 108,
   "metadata": {},
   "outputs": [],
   "source": [
    "# Directory where the checkpoints will be saved\n",
    "checkpoint_dir = './training_checkpoints'\n",
    "# Name of the checkpoint files\n",
    "checkpoint_prefix = os.path.join(checkpoint_dir, \"ckpt_{epoch}\")\n",
    "\n",
    "checkpoint_callback=tf.keras.callbacks.ModelCheckpoint(\n",
    "    filepath=checkpoint_prefix,\n",
    "    save_weights_only=True)"
   ]
  },
  {
   "cell_type": "code",
   "execution_count": 109,
   "metadata": {},
   "outputs": [],
   "source": [
    "EPOCHS=10"
   ]
  },
  {
   "cell_type": "code",
   "execution_count": 110,
   "metadata": {},
   "outputs": [
    {
     "name": "stdout",
     "output_type": "stream",
     "text": [
      "Epoch 1/10\n",
      "WARNING:tensorflow:Unresolved object in checkpoint: (root).optimizer\n",
      "WARNING:tensorflow:Unresolved object in checkpoint: (root).optimizer.iter\n",
      "WARNING:tensorflow:Unresolved object in checkpoint: (root).optimizer.beta_1\n",
      "WARNING:tensorflow:Unresolved object in checkpoint: (root).optimizer.beta_2\n",
      "WARNING:tensorflow:Unresolved object in checkpoint: (root).optimizer.decay\n",
      "WARNING:tensorflow:Unresolved object in checkpoint: (root).optimizer.learning_rate\n",
      "WARNING:tensorflow:Unresolved object in checkpoint: (root).optimizer's state 'm' for (root).layer_with_weights-0.embeddings\n",
      "WARNING:tensorflow:Unresolved object in checkpoint: (root).optimizer's state 'm' for (root).layer_with_weights-2.kernel\n",
      "WARNING:tensorflow:Unresolved object in checkpoint: (root).optimizer's state 'm' for (root).layer_with_weights-2.bias\n",
      "WARNING:tensorflow:Unresolved object in checkpoint: (root).optimizer's state 'm' for (root).layer_with_weights-1.cell.kernel\n",
      "WARNING:tensorflow:Unresolved object in checkpoint: (root).optimizer's state 'm' for (root).layer_with_weights-1.cell.recurrent_kernel\n",
      "WARNING:tensorflow:Unresolved object in checkpoint: (root).optimizer's state 'm' for (root).layer_with_weights-1.cell.bias\n",
      "WARNING:tensorflow:Unresolved object in checkpoint: (root).optimizer's state 'v' for (root).layer_with_weights-0.embeddings\n",
      "WARNING:tensorflow:Unresolved object in checkpoint: (root).optimizer's state 'v' for (root).layer_with_weights-2.kernel\n",
      "WARNING:tensorflow:Unresolved object in checkpoint: (root).optimizer's state 'v' for (root).layer_with_weights-2.bias\n",
      "WARNING:tensorflow:Unresolved object in checkpoint: (root).optimizer's state 'v' for (root).layer_with_weights-1.cell.kernel\n",
      "WARNING:tensorflow:Unresolved object in checkpoint: (root).optimizer's state 'v' for (root).layer_with_weights-1.cell.recurrent_kernel\n",
      "WARNING:tensorflow:Unresolved object in checkpoint: (root).optimizer's state 'v' for (root).layer_with_weights-1.cell.bias\n",
      "WARNING:tensorflow:A checkpoint was restored (e.g. tf.train.Checkpoint.restore or tf.keras.Model.load_weights) but not all checkpointed values were used. See above for specific issues. Use expect_partial() on the load status object, e.g. tf.train.Checkpoint.restore(...).expect_partial(), to silence these warnings, or use assert_consumed() to make the check explicit. See https://www.tensorflow.org/alpha/guide/checkpoints#loading_mechanics for details.\n",
      "105/105 [==============================] - 520s 5s/step - loss: 2.9380\n",
      "Epoch 2/10\n",
      "105/105 [==============================] - 497s 5s/step - loss: 2.2296\n",
      "Epoch 3/10\n",
      "105/105 [==============================] - 521s 5s/step - loss: 1.9821\n",
      "Epoch 4/10\n",
      "105/105 [==============================] - 532s 5s/step - loss: 1.8144\n",
      "Epoch 5/10\n",
      "105/105 [==============================] - 535s 5s/step - loss: 1.6899\n",
      "Epoch 6/10\n",
      "105/105 [==============================] - 502s 5s/step - loss: 1.5947\n",
      "Epoch 7/10\n",
      "105/105 [==============================] - 1026s 10s/step - loss: 1.5168\n",
      "Epoch 8/10\n",
      "105/105 [==============================] - 488s 5s/step - loss: 1.4491\n",
      "Epoch 9/10\n",
      "105/105 [==============================] - 488s 5s/step - loss: 1.3892\n",
      "Epoch 10/10\n",
      "105/105 [==============================] - 499s 5s/step - loss: 1.3310\n"
     ]
    }
   ],
   "source": [
    "history = model.fit(dataset, epochs=EPOCHS, callbacks=[checkpoint_callback])"
   ]
  },
  {
   "cell_type": "code",
   "execution_count": 111,
   "metadata": {},
   "outputs": [
    {
     "data": {
      "text/plain": [
       "'./training_checkpoints/ckpt_10'"
      ]
     },
     "execution_count": 111,
     "metadata": {},
     "output_type": "execute_result"
    }
   ],
   "source": [
    "tf.train.latest_checkpoint(checkpoint_dir)"
   ]
  },
  {
   "cell_type": "code",
   "execution_count": 112,
   "metadata": {},
   "outputs": [],
   "source": [
    "model = build_model(vocab_size, embedding_dim, rnn_units, batch_size=1)\n",
    "\n",
    "model.load_weights(tf.train.latest_checkpoint(checkpoint_dir))\n",
    "\n",
    "model.build(tf.TensorShape([1, None]))"
   ]
  },
  {
   "cell_type": "code",
   "execution_count": 113,
   "metadata": {},
   "outputs": [],
   "source": [
    "def generate_text(model, start_string):\n",
    "  num_generate = 1000\n",
    "  input_eval = [char2idx[s] for s in start_string]\n",
    "  input_eval = tf.expand_dims(input_eval, 0)\n",
    "\n",
    "  \n",
    "  text_generated = []\n",
    "\n",
    "  temperature = 1.0\n",
    "  model.reset_states()\n",
    "  for i in range(num_generate):\n",
    "      predictions = model(input_eval)\n",
    "      predictions = tf.squeeze(predictions, 0)\n",
    "      predictions = predictions / temperature\n",
    "      predicted_id = tf.random.categorical(predictions, num_samples=1)[-1,0].numpy()\n",
    "      input_eval = tf.expand_dims([predicted_id], 0)\n",
    "\n",
    "      text_generated.append(idx2char[predicted_id])\n",
    "\n",
    "  return (start_string + ''.join(text_generated))"
   ]
  },
  {
   "cell_type": "code",
   "execution_count": 114,
   "metadata": {},
   "outputs": [
    {
     "name": "stdout",
     "output_type": "stream",
     "text": [
      "Eminem: you ain't your hair duck, n' teht (Yeah)\n",
      "Latter, appaged in all the voubty Collabost\n",
      "And spit the Superman, ran' back this pottent me, white the syippers, I'm girlin'\n",
      "Reofle shot, do you tired of bein' an went and the body\n",
      "(Glad all the high in the handss count!)\n",
      "\n",
      "Swartin' off with the last clashes and Cryster, ih yeah!\n",
      "Little, bye-, yeah)\n",
      "But his mict is more out, y'all gotta move (Who canny out hinding those up!)\n",
      "\n",
      "Said on it low, they do where you gotta said something (*hit!\n",
      "Look, I was platinum and sevell\n",
      "And we never knew I, knew I will not a ssink and might be in baddle's\n",
      "We're from no one time’s like my daughter chaigring*\n",
      "Put this fom-up-und a ctear in keece (Ne-demper day we're nood at you\n",
      "Don't wanna you both an this manute\n",
      "I'm the road two drage bog, possible\n",
      "Am I flaw-dream screw, 'cause \"Ind, shere quit plugper\n",
      "To scream, \"Fuckaht\" — static)\n",
      "I know share are lookedday\n",
      "Can blue the 'ce stabies layin' around when you had\n",
      "How do I know that you're still placed your hatery, dum\n"
     ]
    }
   ],
   "source": [
    "print(generate_text(model, start_string=u\"Eminem: \"))"
   ]
  },
  {
   "cell_type": "markdown",
   "metadata": {},
   "source": [
    "No significant improvement here"
   ]
  },
  {
   "cell_type": "markdown",
   "metadata": {},
   "source": [
    "It's actually hard to choose between n-grams model, Markov chain model & Rnn as all of them are of a bad quality and perplexity is inf for n-grams. Maybe I should have increased № of epochs but kernel died. Judging by text quality 4-gram model and Markov were not as bad as others"
   ]
  },
  {
   "cell_type": "markdown",
   "metadata": {},
   "source": [
    "Sources:\n",
    "* https://www.kaggle.com/alvations/n-gram-language-model-with-nltk\n",
    "* https://www.kaggle.com/pratapvardhan/kanye-lyrics-eda-song-generator-topic-modelling\n",
    "* https://www.tensorflow.org/tutorials/text/text_generation"
   ]
  }
 ],
 "metadata": {
  "kernelspec": {
   "display_name": "Python 3",
   "language": "python",
   "name": "python3"
  },
  "language_info": {
   "codemirror_mode": {
    "name": "ipython",
    "version": 3
   },
   "file_extension": ".py",
   "mimetype": "text/x-python",
   "name": "python",
   "nbconvert_exporter": "python",
   "pygments_lexer": "ipython3",
   "version": "3.7.5"
  }
 },
 "nbformat": 4,
 "nbformat_minor": 2
}
